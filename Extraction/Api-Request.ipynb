{
 "cells": [
  {
   "cell_type": "code",
   "execution_count": null,
   "metadata": {},
   "outputs": [],
   "source": [
    "import urllib as ur  "
   ]
  },
  {
   "cell_type": "code",
   "execution_count": null,
   "metadata": {},
   "outputs": [],
   "source": [
    "url = 'https://datos.comunidad.madrid/catalogo/api/3/action/datastore_search?resource_id=547d610b-1bf6-4e92-b713-1c9b3a10a8e0&limit=5&q=title:jones'  \n",
    "ur.fileobj = urllib.urlopen(url)"
   ]
  },
  {
   "cell_type": "code",
   "execution_count": null,
   "metadata": {},
   "outputs": [],
   "source": [
    "import requests\n",
    "\n",
    "url = 'https://datos.comunidad.madrid/catalogo/api/3/action/datastore_search?resource_id=547d610b-1bf6-4e92-b713-1c9b3a10a8e0&limit=5&q=title:jones'\n",
    "response = requests.get(url)\n",
    "\n",
    "if response.status_code == 200: \n",
    "    print(response.text)  \n",
    "else:\n",
    "    print('Request was not successful. Status code:', response.status_code)"
   ]
  }
 ],
 "metadata": {
  "kernelspec": {
   "display_name": "base",
   "language": "python",
   "name": "python3"
  },
  "language_info": {
   "name": "python",
   "version": "3.11.5"
  }
 },
 "nbformat": 4,
 "nbformat_minor": 2
}
