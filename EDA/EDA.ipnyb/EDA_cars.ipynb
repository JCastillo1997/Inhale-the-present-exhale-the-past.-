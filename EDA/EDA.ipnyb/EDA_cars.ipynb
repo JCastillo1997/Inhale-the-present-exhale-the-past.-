{
 "cells": [
  {
   "cell_type": "code",
   "execution_count": 1,
   "metadata": {},
   "outputs": [],
   "source": [
    "import pandas as pd\n",
    "import seaborn as sns\n",
    "import matplotlib.pyplot as plt\n",
    "import numpy as np\n",
    "from sklearn.preprocessing import MinMaxScaler\n",
    "from scipy.stats import ttest_rel, ttest_ind\n",
    "from scipy.stats.contingency import association\n",
    "from scipy.stats import spearmanr, pearsonr\n",
    "pd.set_option('display.max_columns', None)\n",
    "from scipy.stats import f_oneway, norm, f, chi2, chi2_contingency\n",
    "import statsmodels.api as sm\n",
    "from statsmodels.formula.api import ols\n",
    "scaler = MinMaxScaler()"
   ]
  },
  {
   "cell_type": "code",
   "execution_count": 2,
   "metadata": {},
   "outputs": [],
   "source": [
    "df_cars=pd.read_csv('C:/Users/Usuario/Documents/Inhale-the-present-exhale-the-past.-/Data/Clean_data/Matriculaciones.csv', encoding= 'utf-8',sep=';')\n",
    "df_budget_mad=pd.read_csv('C:/Users/Usuario/Documents/Inhale-the-present-exhale-the-past.-/Data\\Clean_data/Presupuestos_madrid.csv', encoding='utf-8')\n",
    "df_budget_sp=pd.read_csv('C:/Users/Usuario/Documents/Inhale-the-present-exhale-the-past.-/Data/Clean_data/Presupuestos.csv', encoding='latin1',sep=';')\n"
   ]
  },
  {
   "cell_type": "code",
   "execution_count": 3,
   "metadata": {},
   "outputs": [],
   "source": [
    "df_cars.to_csv('Registered_car_sales.csv',index=False)"
   ]
  },
  {
   "cell_type": "code",
   "execution_count": 4,
   "metadata": {},
   "outputs": [],
   "source": [
    "df_kars=df_cars['Gasolina']+df_cars['Diésel']\n",
    "df_kars2=df_cars['Gasolina']+df_cars['Diésel']+df_cars['Híbridos, eléctricos y otros']\n",
    "df_kars = df_kars.to_frame()\n",
    "df_kars2 = df_kars2.to_frame()"
   ]
  },
  {
   "cell_type": "code",
   "execution_count": 5,
   "metadata": {},
   "outputs": [
    {
     "data": {
      "text/plain": [
       "Index(['Año', 'Periodo', 'Híbridos, eléctricos y otros', 'Gasolina', 'Diésel'], dtype='object')"
      ]
     },
     "execution_count": 5,
     "metadata": {},
     "output_type": "execute_result"
    }
   ],
   "source": [
    "merged_df= df_kars.join(df_kars2, lsuffix='_kars', rsuffix='_kars2')\n",
    "df_cars.columns"
   ]
  },
  {
   "cell_type": "code",
   "execution_count": 6,
   "metadata": {},
   "outputs": [
    {
     "data": {
      "text/html": [
       "<div>\n",
       "<style scoped>\n",
       "    .dataframe tbody tr th:only-of-type {\n",
       "        vertical-align: middle;\n",
       "    }\n",
       "\n",
       "    .dataframe tbody tr th {\n",
       "        vertical-align: top;\n",
       "    }\n",
       "\n",
       "    .dataframe thead th {\n",
       "        text-align: right;\n",
       "    }\n",
       "</style>\n",
       "<table border=\"1\" class=\"dataframe\">\n",
       "  <thead>\n",
       "    <tr style=\"text-align: right;\">\n",
       "      <th></th>\n",
       "      <th>Año</th>\n",
       "      <th>Periodo</th>\n",
       "      <th>Híbridos, eléctricos y otros</th>\n",
       "      <th>Gasolina</th>\n",
       "      <th>Diésel</th>\n",
       "      <th>Total_combustion</th>\n",
       "      <th>Total_Sold</th>\n",
       "    </tr>\n",
       "  </thead>\n",
       "  <tbody>\n",
       "    <tr>\n",
       "      <th>0</th>\n",
       "      <td>2017</td>\n",
       "      <td>Septiembre</td>\n",
       "      <td>1.926</td>\n",
       "      <td>6.293</td>\n",
       "      <td>14.781</td>\n",
       "      <td>21.074</td>\n",
       "      <td>23.000</td>\n",
       "    </tr>\n",
       "    <tr>\n",
       "      <th>1</th>\n",
       "      <td>2017</td>\n",
       "      <td>Octubre</td>\n",
       "      <td>2.695</td>\n",
       "      <td>8.333</td>\n",
       "      <td>14.449</td>\n",
       "      <td>22.782</td>\n",
       "      <td>25.477</td>\n",
       "    </tr>\n",
       "    <tr>\n",
       "      <th>2</th>\n",
       "      <td>2017</td>\n",
       "      <td>Noviembre</td>\n",
       "      <td>2.302</td>\n",
       "      <td>10.753</td>\n",
       "      <td>16.235</td>\n",
       "      <td>26.988</td>\n",
       "      <td>29.290</td>\n",
       "    </tr>\n",
       "    <tr>\n",
       "      <th>3</th>\n",
       "      <td>2017</td>\n",
       "      <td>Diciembre</td>\n",
       "      <td>2.393</td>\n",
       "      <td>12.250</td>\n",
       "      <td>16.577</td>\n",
       "      <td>28.827</td>\n",
       "      <td>31.220</td>\n",
       "    </tr>\n",
       "    <tr>\n",
       "      <th>4</th>\n",
       "      <td>2018</td>\n",
       "      <td>Enero</td>\n",
       "      <td>2.889</td>\n",
       "      <td>15.930</td>\n",
       "      <td>16.304</td>\n",
       "      <td>32.234</td>\n",
       "      <td>35.123</td>\n",
       "    </tr>\n",
       "    <tr>\n",
       "      <th>...</th>\n",
       "      <td>...</td>\n",
       "      <td>...</td>\n",
       "      <td>...</td>\n",
       "      <td>...</td>\n",
       "      <td>...</td>\n",
       "      <td>...</td>\n",
       "      <td>...</td>\n",
       "    </tr>\n",
       "    <tr>\n",
       "      <th>61</th>\n",
       "      <td>2023</td>\n",
       "      <td>Septiembre</td>\n",
       "      <td>14.154</td>\n",
       "      <td>7.392</td>\n",
       "      <td>4.731</td>\n",
       "      <td>12.123</td>\n",
       "      <td>26.277</td>\n",
       "    </tr>\n",
       "    <tr>\n",
       "      <th>62</th>\n",
       "      <td>2023</td>\n",
       "      <td>Octubre</td>\n",
       "      <td>17.070</td>\n",
       "      <td>7.508</td>\n",
       "      <td>5.170</td>\n",
       "      <td>12.678</td>\n",
       "      <td>29.748</td>\n",
       "    </tr>\n",
       "    <tr>\n",
       "      <th>63</th>\n",
       "      <td>2023</td>\n",
       "      <td>Noviembre</td>\n",
       "      <td>17.430</td>\n",
       "      <td>8.739</td>\n",
       "      <td>4.831</td>\n",
       "      <td>13.570</td>\n",
       "      <td>31.000</td>\n",
       "    </tr>\n",
       "    <tr>\n",
       "      <th>64</th>\n",
       "      <td>2023</td>\n",
       "      <td>Diciembre</td>\n",
       "      <td>19.847</td>\n",
       "      <td>10.393</td>\n",
       "      <td>4.880</td>\n",
       "      <td>15.273</td>\n",
       "      <td>35.120</td>\n",
       "    </tr>\n",
       "    <tr>\n",
       "      <th>65</th>\n",
       "      <td>2024</td>\n",
       "      <td>Enero</td>\n",
       "      <td>16.107</td>\n",
       "      <td>8.681</td>\n",
       "      <td>4.375</td>\n",
       "      <td>13.056</td>\n",
       "      <td>29.163</td>\n",
       "    </tr>\n",
       "  </tbody>\n",
       "</table>\n",
       "<p>66 rows × 7 columns</p>\n",
       "</div>"
      ],
      "text/plain": [
       "     Año     Periodo  Híbridos, eléctricos y otros  Gasolina  Diésel  \\\n",
       "0   2017  Septiembre                         1.926     6.293  14.781   \n",
       "1   2017     Octubre                         2.695     8.333  14.449   \n",
       "2   2017   Noviembre                         2.302    10.753  16.235   \n",
       "3   2017   Diciembre                         2.393    12.250  16.577   \n",
       "4   2018       Enero                         2.889    15.930  16.304   \n",
       "..   ...         ...                           ...       ...     ...   \n",
       "61  2023  Septiembre                        14.154     7.392   4.731   \n",
       "62  2023     Octubre                        17.070     7.508   5.170   \n",
       "63  2023   Noviembre                        17.430     8.739   4.831   \n",
       "64  2023   Diciembre                        19.847    10.393   4.880   \n",
       "65  2024       Enero                        16.107     8.681   4.375   \n",
       "\n",
       "    Total_combustion  Total_Sold  \n",
       "0             21.074      23.000  \n",
       "1             22.782      25.477  \n",
       "2             26.988      29.290  \n",
       "3             28.827      31.220  \n",
       "4             32.234      35.123  \n",
       "..               ...         ...  \n",
       "61            12.123      26.277  \n",
       "62            12.678      29.748  \n",
       "63            13.570      31.000  \n",
       "64            15.273      35.120  \n",
       "65            13.056      29.163  \n",
       "\n",
       "[66 rows x 7 columns]"
      ]
     },
     "execution_count": 6,
     "metadata": {},
     "output_type": "execute_result"
    }
   ],
   "source": [
    "df_cars=df_cars.join(merged_df,lsuffix='df_cars')\n",
    "df_cars = df_cars.rename(columns={'0_kars':'Total_combustion','0_kars2':'Total_Sold'})\n",
    "df_cars.dropna()\n"
   ]
  },
  {
   "cell_type": "code",
   "execution_count": 7,
   "metadata": {},
   "outputs": [
    {
     "data": {
      "text/plain": [
       "array(['2017', '2018', '2019', '2020', '2021', '2022', '2023', '2024',\n",
       "       nan, 'Métrica:\"Híbridos, eléctricos y otros\"',\n",
       "       'Fuente:\"Anfac / Faconauto / Ganvam\"', 'Clasificación:\"\"',\n",
       "       'Unidad:\"Número de vehículos\"', 'Escala:\"Unidades\"',\n",
       "       'EscalaFactorPotencia10:\"0\"', 'SonDatosNumericos:\"True\"',\n",
       "       'Métrica:\"Gasolina\"', 'Métrica:\"Diésel\"',\n",
       "       'Url:\"https://www.epdata.es/vehiculos-diesel-tuvieron-matriculaciones-gasolina-variaron-mientras-hibridos-electricos/09ab2c30-d71e-4608-98b2-e06c6e2673ed/madrid/304\"',\n",
       "       'Titulo:\"En Comunidad de Madrid los vehículos diésel tuvieron un 4.375% de matriculaciones en enero de 2024 por un 16.107% de híbridos y eléctricos\"',\n",
       "       'Subtitulo:\"\"'], dtype=object)"
      ]
     },
     "execution_count": 7,
     "metadata": {},
     "output_type": "execute_result"
    }
   ],
   "source": [
    "df_cars.Año.unique()"
   ]
  },
  {
   "cell_type": "code",
   "execution_count": 8,
   "metadata": {},
   "outputs": [
    {
     "data": {
      "text/html": [
       "<div>\n",
       "<style scoped>\n",
       "    .dataframe tbody tr th:only-of-type {\n",
       "        vertical-align: middle;\n",
       "    }\n",
       "\n",
       "    .dataframe tbody tr th {\n",
       "        vertical-align: top;\n",
       "    }\n",
       "\n",
       "    .dataframe thead th {\n",
       "        text-align: right;\n",
       "    }\n",
       "</style>\n",
       "<table border=\"1\" class=\"dataframe\">\n",
       "  <thead>\n",
       "    <tr style=\"text-align: right;\">\n",
       "      <th></th>\n",
       "      <th></th>\n",
       "      <th>Total_Sold</th>\n",
       "    </tr>\n",
       "    <tr>\n",
       "      <th>Año</th>\n",
       "      <th>Total_Sold</th>\n",
       "      <th></th>\n",
       "    </tr>\n",
       "  </thead>\n",
       "  <tbody>\n",
       "    <tr>\n",
       "      <th rowspan=\"4\" valign=\"top\">2017</th>\n",
       "      <th>23.000</th>\n",
       "      <td>1</td>\n",
       "    </tr>\n",
       "    <tr>\n",
       "      <th>25.477</th>\n",
       "      <td>1</td>\n",
       "    </tr>\n",
       "    <tr>\n",
       "      <th>29.290</th>\n",
       "      <td>1</td>\n",
       "    </tr>\n",
       "    <tr>\n",
       "      <th>31.220</th>\n",
       "      <td>1</td>\n",
       "    </tr>\n",
       "    <tr>\n",
       "      <th>2018</th>\n",
       "      <th>18.912</th>\n",
       "      <td>1</td>\n",
       "    </tr>\n",
       "    <tr>\n",
       "      <th>...</th>\n",
       "      <th>...</th>\n",
       "      <td>...</td>\n",
       "    </tr>\n",
       "    <tr>\n",
       "      <th rowspan=\"4\" valign=\"top\">2023</th>\n",
       "      <th>36.158</th>\n",
       "      <td>1</td>\n",
       "    </tr>\n",
       "    <tr>\n",
       "      <th>44.116</th>\n",
       "      <td>1</td>\n",
       "    </tr>\n",
       "    <tr>\n",
       "      <th>48.320</th>\n",
       "      <td>1</td>\n",
       "    </tr>\n",
       "    <tr>\n",
       "      <th>49.224</th>\n",
       "      <td>1</td>\n",
       "    </tr>\n",
       "    <tr>\n",
       "      <th>2024</th>\n",
       "      <th>29.163</th>\n",
       "      <td>1</td>\n",
       "    </tr>\n",
       "  </tbody>\n",
       "</table>\n",
       "<p>66 rows × 1 columns</p>\n",
       "</div>"
      ],
      "text/plain": [
       "                 Total_Sold\n",
       "Año  Total_Sold            \n",
       "2017 23.000               1\n",
       "     25.477               1\n",
       "     29.290               1\n",
       "     31.220               1\n",
       "2018 18.912               1\n",
       "...                     ...\n",
       "2023 36.158               1\n",
       "     44.116               1\n",
       "     48.320               1\n",
       "     49.224               1\n",
       "2024 29.163               1\n",
       "\n",
       "[66 rows x 1 columns]"
      ]
     },
     "execution_count": 8,
     "metadata": {},
     "output_type": "execute_result"
    }
   ],
   "source": [
    "df_cars = df_cars.rename(columns={'0_kars':'Total_combustion','0_kars2':'Total_Sold'})\n",
    "df_kars= df_cars.groupby('Año').agg({'Total_Sold':'value_counts'})\n",
    "df_kars"
   ]
  },
  {
   "cell_type": "code",
   "execution_count": 9,
   "metadata": {},
   "outputs": [],
   "source": [
    "result = df_cars.groupby('Año')['Total_Sold'].sum().reset_index()"
   ]
  },
  {
   "cell_type": "code",
   "execution_count": 10,
   "metadata": {},
   "outputs": [
    {
     "data": {
      "text/plain": [
       "pandas.core.frame.DataFrame"
      ]
     },
     "execution_count": 10,
     "metadata": {},
     "output_type": "execute_result"
    }
   ],
   "source": [
    "df_kars= df_cars.groupby('Año').agg({'Total_Sold':'value_counts'})\n",
    "\n",
    "type(result)"
   ]
  },
  {
   "cell_type": "markdown",
   "metadata": {},
   "source": [
    "df_kars=df_kars[df_kars['Total_Sold']==type(str)]\n",
    "df_kars"
   ]
  },
  {
   "cell_type": "code",
   "execution_count": 11,
   "metadata": {},
   "outputs": [
    {
     "data": {
      "text/plain": [
       "array(['2017', '2018', '2019', '2020', '2021', '2022', '2023', '2024'],\n",
       "      dtype=object)"
      ]
     },
     "execution_count": 11,
     "metadata": {},
     "output_type": "execute_result"
    }
   ],
   "source": [
    "df_cars['Año'] = df_cars['Año'].astype(str)\n",
    "df_cars = df_cars[~df_cars['Año'].str.contains('a')]\n",
    "df_cars = df_cars[~df_cars['Año'].str.contains('u')]\n",
    "df_cars = df_cars[~(df_cars['Total_Sold'] == 969.500)]\n",
    "df_cars.Año.unique()"
   ]
  },
  {
   "cell_type": "code",
   "execution_count": 12,
   "metadata": {},
   "outputs": [],
   "source": [
    "df_cars = df_cars[~(df_cars['Total_Sold'] == 969.500)]"
   ]
  },
  {
   "cell_type": "code",
   "execution_count": 13,
   "metadata": {},
   "outputs": [
    {
     "data": {
      "text/plain": [
       "<Axes: xlabel='Año', ylabel='Total_Sold'>"
      ]
     },
     "execution_count": 13,
     "metadata": {},
     "output_type": "execute_result"
    },
    {
     "data": {
      "image/png": "[encoded data removed]",
      "text/plain": [
       "<Figure size 640x480 with 1 Axes>"
      ]
     },
     "metadata": {},
     "output_type": "display_data"
    }
   ],
   "source": [
    "sns.barplot(x='Año', y='Total_Sold', data=df_cars)"
   ]
  },
  {
   "cell_type": "code",
   "execution_count": 14,
   "metadata": {},
   "outputs": [],
   "source": [
    "pd.set_option('display.max_rows', None)\n",
    "pd.set_option('display.max_columns', None)"
   ]
  },
  {
   "cell_type": "code",
   "execution_count": 15,
   "metadata": {},
   "outputs": [
    {
     "data": {
      "text/plain": [
       "Index(['Año', 'Periodo', 'Híbridos, eléctricos y otros', 'Gasolina', 'Diésel',\n",
       "       'Total_combustion', 'Total_Sold'],\n",
       "      dtype='object')"
      ]
     },
     "execution_count": 15,
     "metadata": {},
     "output_type": "execute_result"
    }
   ],
   "source": [
    "df_cars.columns"
   ]
  },
  {
   "cell_type": "code",
   "execution_count": 16,
   "metadata": {},
   "outputs": [],
   "source": [
    "df_cars.rename(columns={'Año':'year','Periodo':'month','Híbridos, eléctricos y otros':'eco','Gasolina':'gasoline', \n",
    "                'Diésel':'diesel','Total_combustion':'total_combustion','Total_Sold':'total_sold'},inplace=True)"
   ]
  },
  {
   "cell_type": "code",
   "execution_count": 18,
   "metadata": {},
   "outputs": [],
   "source": [
    "month_map = {\n",
    "    'Enero' : 'january',\n",
    "    'Febrero': 'february',\n",
    "    'Marzo': 'march',\n",
    "    'Abril': 'april',\n",
    "    'Mayo': 'may',\n",
    "    'Junio': 'june',\n",
    "    'Julio': 'july',\n",
    "    'Agosto': 'august',\n",
    "    'Septiembre': 'september',\n",
    "    'Octubre': 'october',\n",
    "    'Noviembre': 'november',\n",
    "    'Diciembre': 'december'\n",
    "}\n",
    "\n",
    "\n",
    "df_cars['month'] = df_cars['month'].map(month_map)"
   ]
  },
  {
   "cell_type": "code",
   "execution_count": 21,
   "metadata": {},
   "outputs": [],
   "source": [
    "df_cars.to_csv('cars_sales.csv',index=False)"
   ]
  }
 ],
 "metadata": {
  "kernelspec": {
   "display_name": "base",
   "language": "python",
   "name": "python3"
  },
  "language_info": {
   "codemirror_mode": {
    "name": "ipython",
    "version": 3
   },
   "file_extension": ".py",
   "mimetype": "text/x-python",
   "name": "python",
   "nbconvert_exporter": "python",
   "pygments_lexer": "ipython3",
   "version": "3.11.5"
  }
 },
 "nbformat": 4,
 "nbformat_minor": 2
}
