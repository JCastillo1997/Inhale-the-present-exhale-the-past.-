{
 "cells": [
  {
   "cell_type": "code",
   "execution_count": null,
   "metadata": {},
   "outputs": [],
   "source": [
    "import pandas as pd\n",
    "import seaborn as sns\n",
    "import matplotlib.pyplot as plp\n",
    "import numpy as np\n",
    "from sklearn.preprocessing import MinMaxScaler\n",
    "from scipy.stats import ttest_rel, ttest_ind\n",
    "from scipy.stats.contingency import association\n",
    "from scipy.stats import spearmanr, pearsonr\n",
    "pd.set_option('display.max_columns', None)\n",
    "from scipy.stats import f_oneway, norm, f, chi2, chi2_contingency\n",
    "import statsmodels.api as sm\n",
    "from statsmodels.formula.api import ols\n",
    "scaler = MinMaxScaler()"
   ]
  },
  {
   "cell_type": "code",
   "execution_count": null,
   "metadata": {},
   "outputs": [],
   "source": [
    "df=pd.read_csv('C:/Users/Usuario/Documents/Inhale-the-present-exhale-the-past.-/Data/Unclean_data/Unclean_data/aire_madrid.csv')"
   ]
  },
  {
   "cell_type": "code",
   "execution_count": null,
   "metadata": {},
   "outputs": [],
   "source": [
    "df=df.dropna()"
   ]
  },
  {
   "cell_type": "code",
   "execution_count": null,
   "metadata": {},
   "outputs": [],
   "source": [
    "# We separate the first and second columns based only on when ZBEDEP and ZBE where created."
   ]
  },
  {
   "cell_type": "code",
   "execution_count": null,
   "metadata": {},
   "outputs": [],
   "source": [
    "df.head()"
   ]
  },
  {
   "cell_type": "code",
   "execution_count": null,
   "metadata": {},
   "outputs": [],
   "source": [
    "columns_to_check = ['v01', 'v02', 'v03', 'v04', 'v05', 'v06', 'v07', 'v08', 'v09', 'v10', 'v11', 'v12', 'v13', 'v14', 'v15', 'v16', 'v17', 'v18', 'v19', 'v20', 'v21', 'v22', 'v23', 'v24']\n",
    "columns_to_modify2 = ['h01', 'h02', 'h03', 'h04', 'h05', 'h06', 'h07', 'h08', 'h09', 'h10', 'h11', 'h12', 'h13', 'h14', 'h15', 'h16', 'h17', 'h18', 'h19', 'h20', 'h21', 'h22', 'h23', 'h24']\n",
    "# df_antes = df_antes[~df_antes[columns_to_check].apply(lambda row: row.str.contains('n')).any(axis=1)]\n",
    "# df_despues = df_despues[~df_despues[columns_to_check].apply(lambda row: row.str.contains('n')).any(axis=1)]\n"
   ]
  },
  {
   "cell_type": "code",
   "execution_count": null,
   "metadata": {},
   "outputs": [],
   "source": [
    "\"\"\"\n",
    "for col in columns_to_modify2:\n",
    "    df_antes[col] = df_antes[col].str.replace(',', '.').astype(float)\n",
    "      df_antes[col] = df_antes[col].str.replace(',', '0').astype(float)\n",
    "\"\"\""
   ]
  },
  {
   "cell_type": "code",
   "execution_count": null,
   "metadata": {},
   "outputs": [],
   "source": [
    "# now we work the second table "
   ]
  },
  {
   "cell_type": "code",
   "execution_count": null,
   "metadata": {},
   "outputs": [],
   "source": [
    "\n",
    "df=df.drop('Unnamed: 0', axis=1)\n",
    "df = df[~df[columns_to_check].apply(lambda row: row.str.contains('n')).any(axis=1)]\n",
    "for col in columns_to_modify2:\n",
    "    df[col] = df[col].str.replace(',', '.').astype(float)"
   ]
  },
  {
   "cell_type": "code",
   "execution_count": null,
   "metadata": {},
   "outputs": [],
   "source": [
    "df = df.drop(df.columns[df.columns.str.startswith('v')], axis=1)"
   ]
  },
  {
   "cell_type": "code",
   "execution_count": null,
   "metadata": {},
   "outputs": [],
   "source": [
    "df.head()"
   ]
  },
  {
   "cell_type": "markdown",
   "metadata": {},
   "source": [
    "After studying the DataFrames we detelte the 'V' columns"
   ]
  },
  {
   "cell_type": "code",
   "execution_count": null,
   "metadata": {},
   "outputs": [],
   "source": [
    "cross_1= pd.crosstab(df['municipio'],df['magnitud'])\n",
    "cross_1"
   ]
  },
  {
   "cell_type": "markdown",
   "metadata": {},
   "source": [
    "df=df.drop('Unnamed: 0', axis=1)\n",
    "df = df[~df[columns_to_check].apply(lambda row: row.str.contains('n')).any(axis=1)]\n",
    "\n",
    "for col in columns_to_modify2:\n",
    "    df[col] = df[col].str.replace(',', '.').astype(float)\n",
    "df[columns_to_modify2] = scaler.fit_transform(df[columns_to_modify2])\n",
    "df=df.drop(columns_to_check,axis=1)"
   ]
  },
  {
   "cell_type": "code",
   "execution_count": null,
   "metadata": {},
   "outputs": [],
   "source": [
    "# df.to_csv('aire_global',index=False)\n",
    "# df_antes.to_csv('aire_antes',index=False)\n",
    "# df_despues.to_csv('aire_después',index=False)"
   ]
  },
  {
   "cell_type": "code",
   "execution_count": null,
   "metadata": {},
   "outputs": [],
   "source": [
    "df.rename(columns={'provincia':'province','municipio':'municipality','estacion':'station','estacion':'station','magnitud':'magnitude',\n",
    "                   'punto_muestreo':'measuring_point','ano':'year','mes':'month','dia':'day'}, inplace=True)"
   ]
  },
  {
   "cell_type": "code",
   "execution_count": null,
   "metadata": {},
   "outputs": [],
   "source": [
    "df_id=df[['province','municipality','magnitude','month']]\n",
    "df_id=df_id.rename(columns={'province':'province_id','municipality':'municipality_id','magnitude':'magnitude_id','month':'month_id'})"
   ]
  },
  {
   "cell_type": "code",
   "execution_count": null,
   "metadata": {},
   "outputs": [],
   "source": [
    "df.head()"
   ]
  },
  {
   "cell_type": "code",
   "execution_count": null,
   "metadata": {},
   "outputs": [],
   "source": [
    "df_id"
   ]
  },
  {
   "cell_type": "code",
   "execution_count": null,
   "metadata": {},
   "outputs": [],
   "source": [
    "municipality_map= {16:'el_atazar',47:'collado_villalba',6:'alcobendas',58:'fuenlabrada',171:'villa_del_prado',\n",
    "                   5:'alcala_de_henares',92:'mostoles',102:'orusco_de_tajuña',45:'colmenar_viejo',148:'torrejon_de_ardoz',\n",
    "                   74:'leganes',80:'majadahonda',13:'aranjuez',123:'rivas_vaciamadrid',9:'algete',49:'coslada',\n",
    "                   180:'villarejo_de_salvanes',14:'arganda_del_rey',161:'valdemoro',67:'guadalix_de_la_sierra',\n",
    "                   133:'san_martin_de_valdeiglesias',7:'alcorcon',65:'getafe',120:'puerto_de_cotos',115:'pozuelo_de_alarcon',\n",
    "                   134:'san_sebastian_de_los_reyes',127:'las_rozas',106:'parla'}"
   ]
  },
  {
   "cell_type": "code",
   "execution_count": null,
   "metadata": {},
   "outputs": [],
   "source": [
    "df.head()"
   ]
  },
  {
   "cell_type": "code",
   "execution_count": null,
   "metadata": {},
   "outputs": [],
   "source": [
    "province_map = {28:'madrid'}\n",
    "month_map = {\n",
    "    1: 'january',\n",
    "    2: 'february',\n",
    "    3: 'march',\n",
    "    4: 'april',\n",
    "    5: 'may',\n",
    "    6: 'june',\n",
    "    7: 'july',\n",
    "    8: 'august',\n",
    "    9: 'september',\n",
    "    10: 'october',\n",
    "    11: 'november',\n",
    "    12: 'december'\n",
    "}\n",
    "\n",
    "\n",
    "df['month'] = df['month'].map(month_map)"
   ]
  },
  {
   "cell_type": "code",
   "execution_count": null,
   "metadata": {},
   "outputs": [],
   "source": [
    "df['province'] = df['province'].map(province_map)"
   ]
  },
  {
   "cell_type": "code",
   "execution_count": null,
   "metadata": {},
   "outputs": [],
   "source": [
    "df['municipality'] = df['municipality'].map(municipality_map)"
   ]
  },
  {
   "cell_type": "code",
   "execution_count": null,
   "metadata": {},
   "outputs": [],
   "source": [
    "magnitude_map={14:'ozone',7:'nitrogen_moxide',8:'nitrogen_dioxide',10:'particles_in_suspension(<_PM10)',\n",
    "              12:'nitrogen_oxides',9:'particles_in_suspension(<_PM2,5)',6:'carbon_monoxide',1:'sulfur_dioxide',\n",
    "              30:'benzene',20:'toluene',44:'non_methane_hydrocarbons',42:'total_hydrocarbons',\n",
    "              431:'metaparaxylene'}"
   ]
  },
  {
   "cell_type": "code",
   "execution_count": null,
   "metadata": {},
   "outputs": [],
   "source": [
    "df['magnitude'] = df['magnitude'].map(magnitude_map)"
   ]
  },
  {
   "cell_type": "code",
   "execution_count": null,
   "metadata": {},
   "outputs": [],
   "source": [
    "\n",
    "split_values = df['measuring_point'].str.split('_')\n",
    "extracted_numbers = split_values.str[2]\n",
    "df['tech'] = extracted_numbers\n",
    "df['measuring_point'] = df['measuring_point'].str.replace(r'_(\\d+)$', '', regex=True)"
   ]
  },
  {
   "cell_type": "markdown",
   "metadata": {},
   "source": [
    "\n",
    "df['measuring_point'] = df['measuring_point'].str.replace(r'_(\\d+)$', '', regex=True)"
   ]
  },
  {
   "cell_type": "code",
   "execution_count": null,
   "metadata": {},
   "outputs": [],
   "source": [
    "technical_description_map={'8':'quimioluminescence','49':'beta_absortion','6':'uv_absortion',\n",
    "                           '59':'gas_cromatography','2':'flame_ionization','48':'non_dispersed_infrared_espectometry',\n",
    "                           '38':'uv_fluorescence'}"
   ]
  },
  {
   "cell_type": "code",
   "execution_count": null,
   "metadata": {},
   "outputs": [],
   "source": [
    "df['tech'] = df['tech'].map(technical_description_map)\n"
   ]
  },
  {
   "cell_type": "code",
   "execution_count": null,
   "metadata": {},
   "outputs": [],
   "source": [
    "df_1 = df[['year', 'month', 'day', 'tech','tech_id', 'h01', 'h02', 'h03', 'h04', 'h05', 'h06', 'h07', 'h08', 'h09', 'h10',\n",
    "            'h11', 'h12', 'h13', 'h14', 'h15', 'h16', 'h17', 'h18', 'h19', 'h20', 'h21', 'h22', 'h23', 'h24']]"
   ]
  },
  {
   "cell_type": "markdown",
   "metadata": {},
   "source": [
    "df_1.to_csv('erd_1.csv',index=False)\n"
   ]
  },
  {
   "cell_type": "code",
   "execution_count": null,
   "metadata": {},
   "outputs": [],
   "source": [
    "merged_df = df.merge(df_id, left_index=True, right_index=True, how='inner')"
   ]
  },
  {
   "cell_type": "code",
   "execution_count": null,
   "metadata": {},
   "outputs": [],
   "source": [
    "df_sql_1= merged_df[['year', 'month', 'day','magnitude','tech', 'h01', 'h02', 'h03', 'h04', 'h05', 'h06', 'h07', 'h08', 'h09', 'h10',\n",
    "            'h11', 'h12', 'h13', 'h14', 'h15', 'h16', 'h17', 'h18', 'h19', 'h20', 'h21', 'h22', 'h23', 'h24','province_id']]"
   ]
  },
  {
   "cell_type": "code",
   "execution_count": null,
   "metadata": {},
   "outputs": [],
   "source": [
    "df_sql_1.to_csv('df_sql_1.csv',index=False)"
   ]
  },
  {
   "cell_type": "code",
   "execution_count": null,
   "metadata": {},
   "outputs": [],
   "source": [
    "df_sql_2= merged_df[['province']]\n"
   ]
  },
  {
   "cell_type": "code",
   "execution_count": null,
   "metadata": {},
   "outputs": [],
   "source": [
    "df_sql_2=df_sql_2.groupby('province').mean().reset_index()"
   ]
  },
  {
   "cell_type": "code",
   "execution_count": null,
   "metadata": {},
   "outputs": [],
   "source": [
    "df_sql_2.head()"
   ]
  },
  {
   "cell_type": "code",
   "execution_count": null,
   "metadata": {},
   "outputs": [],
   "source": [
    "df_sql_2.reset_index(drop=False, inplace=True)\n",
    "df_sql_2.rename(columns={'index':'province_id'}, inplace=True)\n",
    "df_sql_2['province_id'] += 1\n"
   ]
  },
  {
   "cell_type": "code",
   "execution_count": null,
   "metadata": {},
   "outputs": [],
   "source": [
    "df_sql_2.reset_index(inplace=True)\n",
    "df_sql_2.rename(columns={'index':'province_id'}, inplace=True)\n",
    "df_sql_2.head()\n",
    "df_sql_2.to_csv('df_sql_2.csv',index=False)"
   ]
  },
  {
   "cell_type": "code",
   "execution_count": null,
   "metadata": {},
   "outputs": [],
   "source": [
    "# df_sql_2.to_csv('df_sql_2.csv',index=False)"
   ]
  },
  {
   "cell_type": "code",
   "execution_count": null,
   "metadata": {},
   "outputs": [],
   "source": [
    "# df_sql_2.to_csv('df_sql_2.csv',index=False)"
   ]
  },
  {
   "cell_type": "code",
   "execution_count": null,
   "metadata": {},
   "outputs": [],
   "source": [
    "province_map2 = {28 : 1}\n",
    "merged_df['province_id'] = merged_df['province_id'].map(province_map2)\n"
   ]
  },
  {
   "cell_type": "code",
   "execution_count": null,
   "metadata": {},
   "outputs": [],
   "source": [
    "municipality_map2= {16:1,47:2,6:3,58:4,171:5,\n",
    "                   5:6,92:7,102:8,45:9,148:10,\n",
    "                   74:11,80:12,13:14,123:15,9:16,49:17,\n",
    "                   180:18,14:19,161:20,67:21,\n",
    "                   133:22,7:23,65:24,120:25,115:26,\n",
    "                   134:27,127:28,106:29}\n",
    "merged_df['municipality_id'] = merged_df['municipality_id'].map(municipality_map2)\n"
   ]
  },
  {
   "cell_type": "code",
   "execution_count": null,
   "metadata": {},
   "outputs": [],
   "source": [
    "df_sql_3=merged_df[['municipality','province_id']]"
   ]
  },
  {
   "cell_type": "code",
   "execution_count": null,
   "metadata": {},
   "outputs": [],
   "source": [
    "# df_sql_3.to_csv('df_sql_3.csv',index=False)"
   ]
  },
  {
   "cell_type": "code",
   "execution_count": null,
   "metadata": {},
   "outputs": [],
   "source": [
    "df_sql_4=merged_df[['station','municipality_id']]"
   ]
  },
  {
   "cell_type": "code",
   "execution_count": null,
   "metadata": {},
   "outputs": [],
   "source": [
    "#d f_sql_4.to_csv('df_sql_4.csv',index=False)"
   ]
  },
  {
   "cell_type": "code",
   "execution_count": null,
   "metadata": {},
   "outputs": [],
   "source": [
    "province_map2 = {28 : 1}\n",
    "df_sql_1['province_id'] = df_sql_1['province_id'].map(province_map2)\n",
    "df_sql_1.head()"
   ]
  },
  {
   "cell_type": "code",
   "execution_count": null,
   "metadata": {},
   "outputs": [],
   "source": [
    "df_sql_1.reset_index(inplace=True)\n",
    "df_sql_1.rename(columns={'index':'pollution_id'}, inplace=True)\n",
    "df_sql_1.head()"
   ]
  },
  {
   "cell_type": "code",
   "execution_count": null,
   "metadata": {},
   "outputs": [],
   "source": [
    "df_sql_1.info()"
   ]
  },
  {
   "cell_type": "code",
   "execution_count": null,
   "metadata": {},
   "outputs": [],
   "source": [
    "df_sql_1.to_csv('df_sql_1.csv',index=False)"
   ]
  },
  {
   "cell_type": "code",
   "execution_count": 44,
   "metadata": {},
   "outputs": [],
   "source": [
    "merged_df.to_csv('pollution_data.csv',index=False)"
   ]
  }
 ],
 "metadata": {
  "kernelspec": {
   "display_name": "base",
   "language": "python",
   "name": "python3"
  },
  "language_info": {
   "codemirror_mode": {
    "name": "ipython",
    "version": 3
   },
   "file_extension": ".py",
   "mimetype": "text/x-python",
   "name": "python",
   "nbconvert_exporter": "python",
   "pygments_lexer": "ipython3",
   "version": "3.11.5"
  }
 },
 "nbformat": 4,
 "nbformat_minor": 2
}
